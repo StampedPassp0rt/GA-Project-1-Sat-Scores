{
 "cells": [
  {
   "cell_type": "markdown",
   "metadata": {},
   "source": [
    "# Project 1\n",
    "\n",
    "\n",
    "**Note: I was interested in exploring the data so I did some preliminary analysis, which turns out to be part Parts 2 and 3 asked for.**\n",
    "\n",
    "I started with loading the file, and realized that using numpy's genfromtxt was a good method. I then calculated descriptive statistics for each column.\n",
    "\n"
   ]
  },
  {
   "cell_type": "code",
   "execution_count": 138,
   "metadata": {
    "collapsed": false
   },
   "outputs": [
    {
     "name": "stdout",
     "output_type": "stream",
     "text": [
      "[82 81 79 77 72 71 71 69 69 68 67 65 65 63 60 57 56 55 54 53 53 52 51 51 34\n",
      " 33 31 26 23 18 17 13 13 12 12 11 11  9  9  9  8  8  8  7  6  6  5  5  4  4\n",
      "  4]\n",
      "[('CT', 82, 509, 510) ('NJ', 81, 499, 513) ('MA', 79, 511, 515)\n",
      " ('NY', 77, 495, 505) ('NH', 72, 520, 516)]\n"
     ]
    }
   ],
   "source": [
    "#Reading in the SAT data set.\n",
    "#Importing the necessary libraries for data analysis.\n",
    "import numpy as np\n",
    "import csv\n",
    "#importing scipy.stats for some of the statistical analysis.\n",
    "import scipy.stats as stats\n",
    "import urllib2\n",
    "import matplotlib.pyplot as plt\n",
    "import pandas as pd\n",
    "import seaborn as sns\n",
    "#Setting code so that visualizations are plotted in Jupyter.\n",
    "%matplotlib inline\n",
    "\n",
    "#Mapping the url where the raw csv is. \n",
    "url = 'https://raw.githubusercontent.com/StampedPassp0rt/DSI-DC-1/master/week-01/project-01/assets/sat_scores.csv'\n",
    "#Opening the URL\n",
    "response = urllib2.urlopen(url)\n",
    "#Using numpy and genfromtxt to construct file from csv \n",
    "#This code for some reason omits the header, but still allows me to subset by column.\n",
    "#I think it is because 1) names = True states that the first row is the header row with the column names;\n",
    "#2) dtype = None detects from the 2nd row on what the data is;\n",
    "#3) dtype stores each column with the name of it, and then the type of data; and I can use the column names to\n",
    "# subset the columns as individual arrays.\n",
    "sat_csv = np.genfromtxt(response, dtype = None, names = True, delimiter = \",\")\n",
    "#Note: this creates an array of tuples. It would be nicer if it was a dataframe.\n",
    "\n",
    "\n",
    "\n",
    "#Importing the CSV file into Python with the csv library.\n",
    "#So far, I've used two methods to get the csv into Python.\n",
    "with open(\"sat_scores.csv\", \"rb\") as f:\n",
    "    reader = csv.reader(f)\n",
    "    sat_from_reader = list(reader)\n",
    "    for row in reader:\n",
    "        print row\n",
    "        \n",
    "#Note, I am not using the CSV reader data, I am using the data from numpy genfromtxt for the analysis.\n",
    "\n",
    "#Just testing here that when I subset on the 'Rate' column, I get the column as a vector of the rates.\n",
    "print sat_csv['Rate']\n",
    "#Printing out a sample of the data set.\n",
    "print sat_csv[0:5]"
   ]
  },
  {
   "cell_type": "markdown",
   "metadata": {},
   "source": [
    "Above, we loaded the data in for analysis. I tested two ways to do it: CSV, and numpy genfromtxt. I ultimately used numpy genfromtxt for a significant portion of the analysis."
   ]
  },
  {
   "cell_type": "code",
   "execution_count": 4,
   "metadata": {
    "collapsed": false
   },
   "outputs": [
    {
     "name": "stdout",
     "output_type": "stream",
     "text": [
      "DescribeResult(nobs=51, minmax=(4, 82), mean=37.0, variance=759.03999999999996, skewness=0.1567369253739697, kurtosis=-1.611675481201603)\n",
      "The mean and median of the Participation Rate are 37.000000 percent and 33.000000 percent, respectively.\n",
      "The mode is 4.000000 percent, and its frequency is 3.000000.\n",
      "The variance and standard deviation of the Participation Rate are 759.040000 percent squared and 27.550681 percent respectively.\n",
      "Since the kurtosis is -1.611675, we know the distribution is flatter than a standard Gaussian distribution.\n",
      "Since the skewness is 0.156737, we know the distribution is skewed right, with a long tail. So there are a series of states with higher participation rates than would be expected with a standard normal distribution.\n",
      "The minimum participation rate is 4.000000 percent and the maximum is 82.000000 percent.\n",
      "The count of minimum participation rate states is 3, and the list of states with the minimum participation rate is:\n",
      "['SD', 'ND', 'MS']\n",
      "The count of maximum participation rate states is 1, and the list of states with the maximum participation rate is:\n",
      "['CT']\n",
      "Overall, we would say that the participation rate is low at 37.000000 percent. This could merely reflect the demand for going to college.\n",
      "We would want to know if the ACT had higher penetration in these markets, or if the high schools there deemphasize any college-readiness type of test. Depending on that insight, we would make a recommendation, since one alternative is that our competition is strong there and we need to respond to that; or markets where there is low penetration have low penetration for college tests in general, and hence present fertile marketing ground.\n"
     ]
    }
   ],
   "source": [
    "\n",
    "#Describing the data.\n",
    "#Slicing the Rate column out of the SAT CSV.\n",
    "#I am first going to do descriptive stats for the whole sat_csv dataset.\n",
    "#I will do these by column, first Rate, then Verbal, then Math.\n",
    "\n",
    "#Participation \"Rate\" descriptive data. Using scipy.stats.describe for efficient output.\n",
    "descriptive_stats_sat_Rate = stats.describe(sat_csv['Rate'])\n",
    "print descriptive_stats_sat_Rate\n",
    "\n",
    "#Calculating the mode\n",
    "Rate_mode = stats.mode(sat_csv['Rate'])\n",
    "#Calculating the standard deviation using the variance from stats.describe. This will give a different output than np.std.\n",
    "#I am choosing to interpret this data set as a sample from a population of years of College Board data, hence why I am\n",
    "# using the variance calculation from scipy.stats, which calculates the sample variance, instead of np.var, which calculates\n",
    "# a whole population variance.\n",
    "Rate_stdev = np.sqrt(descriptive_stats_sat_Rate[3])\n",
    "#Median of Participation Rate\n",
    "Rate_median = np.median(sat_csv['Rate'])\n",
    "\n",
    "\n",
    "#Printing out the mean, median, and mode of Participation Rate.\n",
    "print (\"The mean and median of the Participation Rate are %f percent and %f percent, respectively.\" % (descriptive_stats_sat_Rate[2], Rate_median))\n",
    "print (\"The mode is %f percent, and its frequency is %f.\" % (Rate_mode[0], Rate_mode[1]))\n",
    "print (\"The variance and standard deviation of the Participation Rate are %f percent squared and %f percent respectively.\" % (descriptive_stats_sat_Rate[3], Rate_stdev))\n",
    "\n",
    "#Printing out initial interpretation of Participation Rate data distribution.\n",
    "print (\"Since the kurtosis is %f, we know the distribution is flatter than a standard Gaussian distribution.\" % descriptive_stats_sat_Rate[5])\n",
    "print (\"Since the skewness is %f, we know the distribution is skewed right, with a long tail. So there are a series of states with higher participation rates than would be expected with a standard normal distribution.\" % descriptive_stats_sat_Rate[4])\n",
    "\n",
    "#Participation Rate Descriptive Data - min and max values\n",
    "print (\"The minimum participation rate is %f percent and the maximum is %f percent.\" % (descriptive_stats_sat_Rate[1][0], descriptive_stats_sat_Rate[1][1]))\n",
    "#Creating a list of the minimum participation rate states. \n",
    "list_min_rate_STs = []\n",
    "for i in range(len(sat_csv['Rate'])):\n",
    "    if sat_csv['Rate'][i] == descriptive_stats_sat_Rate[1][0]:\n",
    "        list_min_rate_STs.append(sat_csv['State'][i])\n",
    "print \"The count of minimum participation rate states is %i, and the list of states with the minimum participation rate is:\" % (len(list_min_rate_STs))\n",
    "print list_min_rate_STs\n",
    "\n",
    "#Creating a list of the maximum participation rate states. \n",
    "list_max_rate_STs = []\n",
    "for i in range(len(sat_csv['Rate'])):\n",
    "    if sat_csv['Rate'][i] == descriptive_stats_sat_Rate[1][1]:\n",
    "        list_max_rate_STs.append(sat_csv['State'][i])\n",
    "print \"The count of maximum participation rate states is %i, and the list of states with the maximum participation rate is:\" % (len(list_max_rate_STs))\n",
    "print list_max_rate_STs\n",
    "print (\"Overall, we would say that the participation rate is low at %f percent. This could merely reflect the demand for going to college.\" % descriptive_stats_sat_Rate[2])\n",
    "print (\"We would want to know if the ACT had higher penetration in these markets, or if the high schools there deemphasize any college-readiness type of test. Depending on that insight, we would make a recommendation, since one alternative is that our competition is strong there and we need to respond to that; or markets where there is low penetration have low penetration for college tests in general, and hence present fertile marketing ground.\")\n",
    "\n",
    "\n"
   ]
  },
  {
   "cell_type": "code",
   "execution_count": 6,
   "metadata": {
    "collapsed": false
   },
   "outputs": [
    {
     "name": "stdout",
     "output_type": "stream",
     "text": [
      "DescribeResult(nobs=51, minmax=(482, 593), mean=532.52941176470586, variance=1112.9341176470589, skewness=0.21821597422429911, kurtosis=-1.3399673179144787)\n",
      "The mean and median across States of their mean Verbal Scores are 532.529412 points and 527.000000 points, respectively.\n",
      "The mode is 562.000000, and its frequency is 3.000000.\n",
      "The states with the mode mean Verbal Score are:\n",
      "['TN', 'NB', 'AR']\n",
      "That the mode is greater than the mean is interesting, as is the fact that the mean and mode are close together.\n",
      "The variance and standard deviation of the mean Verbal Scores are 1112.934118 points squared and 33.360667 points.\n",
      "\n",
      "Since the kurtosis is -1.339967, we know the distribution is flatter than a standard Gaussian distribution.\n",
      "Since the skewness is 0.218216, we know the distribution is skewed right, with a long tail. So there are a series of states with higher mean Verbal Scores than would be expected with a standard normal distribution. But we don't know if this is because these states might have outliers skewing their mean Scores higher, or if this is because overall, they are good.\n",
      "The minimum mean Verbal Score is 482.000000 points and the maximum is 593.000000 points.\n",
      "The count of minimum mean Verbal Score states is 1, and the list of states with the minimum mean Verbal Score is:\n",
      "['DC']\n",
      "The count of maximum mean Verbal Score states is 1, and the list of states is:\n",
      "['IA']\n",
      "Overall, it is interesting that the standard deviation around the mean is so tight (around 6 percent). What is less encouraging is that less than two standard deviations down from the mean is the lowest mean Verbal score, and it is low.\n",
      "While the College Board can not change how low scoring States teach, this data should be a call to action for DC.\n",
      "A good potential consulting opportunity for the College Board would be to examine if there are controlable factors in IA that can be propagated as best practices to struggling states.\n"
     ]
    }
   ],
   "source": [
    "\n",
    "#Describing the data.\n",
    "#Slicing the Verbal column out of the SAT CSV.\n",
    "\n",
    "#Verbal score descriptive data. Using scipy.stats.describe for efficient output.\n",
    "descriptive_stats_sat_Verbal = stats.describe(sat_csv['Verbal'])\n",
    "print descriptive_stats_sat_Verbal\n",
    "\n",
    "#Calculating the mode\n",
    "Verbal_mode = stats.mode(sat_csv['Verbal'])\n",
    "#Getting the lists of states with the mode mean Verbal Score.\n",
    "list_mode_Verbal = []\n",
    "for i in range(len(sat_csv['Verbal'])):\n",
    "    if sat_csv['Verbal'][i] == Verbal_mode[0]:\n",
    "        list_mode_Verbal.append(sat_csv['State'][i])\n",
    "#Calculating the standard deviation using the variance from stats.describe. This will give a different output than np.std.\n",
    "#I am choosing to interpret this data set as a sample from a population of years of College Board data, hence why I am\n",
    "# using the variance calculation from scipy.stats, which calculates the sample variance, instead of np.var, which calculates\n",
    "# a whole population variance.\n",
    "Verbal_stdev = np.sqrt(descriptive_stats_sat_Verbal[3])\n",
    "#Median of mean Verbal Score\n",
    "Verbal_median = np.median(sat_csv['Verbal'])\n",
    "\n",
    "\n",
    "#Printing out the mean, median, and mode of Verbal Score.\n",
    "print (\"The mean and median across States of their mean Verbal Scores are %f points and %f points, respectively.\" % (descriptive_stats_sat_Verbal[2], Verbal_median))\n",
    "print (\"The mode is %f, and its frequency is %f.\" % (Verbal_mode[0], Verbal_mode[1]))\n",
    "print (\"The states with the mode mean Verbal Score are:\")\n",
    "print list_mode_Verbal\n",
    "print (\"That the mode is greater than the mean is interesting, as is the fact that the mean and mode are close together.\")\n",
    "\n",
    "print (\"The variance and standard deviation of the mean Verbal Scores are %f points squared and %f points.\" % (descriptive_stats_sat_Verbal[3], Verbal_stdev))\n",
    "print (\"\")\n",
    "#Printing out initial interpretation of Verbal Score data distribution.\n",
    "print (\"Since the kurtosis is %f, we know the distribution is flatter than a standard Gaussian distribution.\" % descriptive_stats_sat_Verbal[5])\n",
    "print (\"Since the skewness is %f, we know the distribution is skewed right, with a long tail. So there are a series of states with higher mean Verbal Scores than would be expected with a standard normal distribution. But we don't know if this is because these states might have outliers skewing their mean Scores higher, or if this is because overall, they are good.\" % descriptive_stats_sat_Verbal[4])\n",
    "\n",
    "#Verbal Score Descriptive Data - min and max values\n",
    "print (\"The minimum mean Verbal Score is %f points and the maximum is %f points.\" % (descriptive_stats_sat_Verbal[1][0], descriptive_stats_sat_Verbal[1][1]))\n",
    "#Creating a list of the minimum mean Verbal Score states. \n",
    "list_min_Verbal_STs = []\n",
    "for i in range(len(sat_csv['Verbal'])):\n",
    "    if sat_csv['Verbal'][i] == descriptive_stats_sat_Verbal[1][0]:\n",
    "        list_min_Verbal_STs.append(sat_csv['State'][i])\n",
    "print \"The count of minimum mean Verbal Score states is %i, and the list of states with the minimum mean Verbal Score is:\" % (len(list_min_Verbal_STs))\n",
    "print list_min_Verbal_STs\n",
    "\n",
    "#Creating a list of the maximum Verbal Score states. \n",
    "list_max_Verbal_STs = []\n",
    "for i in range(len(sat_csv['Verbal'])):\n",
    "    if sat_csv['Verbal'][i] == descriptive_stats_sat_Verbal[1][1]:\n",
    "        list_max_Verbal_STs.append(sat_csv['State'][i])\n",
    "print \"The count of maximum mean Verbal Score states is %i, and the list of states is:\" % (len(list_max_Verbal_STs))\n",
    "print list_max_Verbal_STs\n",
    "print (\"Overall, it is interesting that the standard deviation around the mean is so tight (around 6 percent). What is less encouraging is that less than two standard deviations down from the mean is the lowest mean Verbal score, and it is low.\")\n",
    "print (\"While the College Board can not change how low scoring States teach, this data should be a call to action for %s.\" % list_min_Verbal_STs[0])\n",
    "print (\"A good potential consulting opportunity for the College Board would be to examine if there are controlable factors in %s that can be propagated as best practices to struggling states.\" % list_max_Verbal_STs[0])"
   ]
  },
  {
   "cell_type": "code",
   "execution_count": 8,
   "metadata": {
    "collapsed": false
   },
   "outputs": [
    {
     "name": "stdout",
     "output_type": "stream",
     "text": [
      "DescribeResult(nobs=51, minmax=(439, 603), mean=531.84313725490199, variance=1316.7749019607843, skewness=0.13979888597800413, kurtosis=-0.4865184309245274)\n",
      "The mean and median across States of their mean Math Scores are 531.843137 points and 525.000000 points, respectively.\n",
      "The mode is 499.000000, and its frequency is 6.000000.\n",
      "The states with the mode mean Math Score are:\n",
      "['RI', 'PA', 'DE', 'NC', 'FL', 'TX']\n",
      "That the mode is around one standard deviation less than the mean is concerning, as is the frequency.\n",
      "The variance and standard deviation of the mean Math Scores are 1316.774902 points squared and 36.287393 points.\n",
      "Since the kurtosis is -0.486518, we know the distribution is flatter than a standard Gaussian distribution.\n",
      "Since the skewness is 0.139799, we know the distribution is skewed right, with a long tail.\n",
      "The minimum mean Math Score is 439.000000 points and the maximum is 603.000000 points.\n",
      "The count of minimum mean Math Score states is 1, and the list of states with the minimum mean Math Score is:\n",
      "['OH']\n",
      "The count of maximum mean Math Score states is 1, and the list of states is:\n",
      "['IA']\n",
      "Overall, it is interesting that the standard deviation around the mean is so tight (around 6 percent). What is less encouraging is that less than two standard deviations down from the mean is the lowest mean Math score, and it is low.\n",
      "While the College Board can not change how low scoring States teach, this data should be a call to action for OH.\n",
      "A good potential consulting opportunity for the College Board would be to examine if there are controlable factors in IA that can be propagated as best practices to struggling states.\n",
      "\n",
      "The mean Math and Verbal Score summation is 1064.372549, which is low.\n"
     ]
    }
   ],
   "source": [
    "#Describing the data.\n",
    "#Slicing the Math column out of the SAT CSV.\n",
    "\n",
    "#Verbal score descriptive data. Using scipy.stats.describe for efficient output.\n",
    "descriptive_stats_sat_Math = stats.describe(sat_csv['Math'])\n",
    "print descriptive_stats_sat_Math\n",
    "\n",
    "#Calculating the mode\n",
    "Math_mode = stats.mode(sat_csv['Math'])\n",
    "#Getting the lists of states with the mode mean Verbal Score.\n",
    "list_mode_Math = []\n",
    "for i in range(len(sat_csv['Math'])):\n",
    "    if sat_csv['Math'][i] == Math_mode[0]:\n",
    "        list_mode_Math.append(sat_csv['State'][i])\n",
    "#Calculating the standard deviation using the variance from stats.describe. This will give a different output than np.std.\n",
    "#I am choosing to interpret this data set as a sample from a population of years of College Board data, hence why I am\n",
    "# using the variance calculation from scipy.stats, which calculates the sample variance, instead of np.var, which calculates\n",
    "# a whole population variance.\n",
    "Math_stdev = np.sqrt(descriptive_stats_sat_Math[3])\n",
    "#Median of mean Math Score\n",
    "Math_median = np.median(sat_csv['Math'])\n",
    "total_mean = (descriptive_stats_sat_Math[2]+descriptive_stats_sat_Verbal[2])\n",
    "\n",
    "#Printing out the mean, median, and mode of Math Score.\n",
    "print (\"The mean and median across States of their mean Math Scores are %f points and %f points, respectively.\" % (descriptive_stats_sat_Math[2], Math_median))\n",
    "print (\"The mode is %f, and its frequency is %f.\" % (Math_mode[0], Math_mode[1]))\n",
    "print (\"The states with the mode mean Math Score are:\")\n",
    "print list_mode_Math\n",
    "print (\"That the mode is around one standard deviation less than the mean is concerning, as is the frequency.\")\n",
    "print (\"The variance and standard deviation of the mean Math Scores are %f points squared and %f points.\" % (descriptive_stats_sat_Math[3], Math_stdev))\n",
    "\n",
    "#Printing out initial interpretation of Verbal Score data distribution.\n",
    "print (\"Since the kurtosis is %f, we know the distribution is flatter than a standard Gaussian distribution.\" % descriptive_stats_sat_Math[5])\n",
    "print (\"Since the skewness is %f, we know the distribution is skewed right, with a long tail.\" % descriptive_stats_sat_Math[4])\n",
    "\n",
    "#Math Score Descriptive Data - min and max values\n",
    "print (\"The minimum mean Math Score is %f points and the maximum is %f points.\" % (descriptive_stats_sat_Math[1][0], descriptive_stats_sat_Math[1][1]))\n",
    "#Creating a list of the minimum mean Math Score states. \n",
    "list_min_Math_STs = []\n",
    "for i in range(len(sat_csv['Math'])):\n",
    "    if sat_csv['Math'][i] == descriptive_stats_sat_Math[1][0]:\n",
    "        list_min_Math_STs.append(sat_csv['State'][i])\n",
    "print \"The count of minimum mean Math Score states is %i, and the list of states with the minimum mean Math Score is:\" % (len(list_min_Math_STs))\n",
    "print list_min_Math_STs\n",
    "\n",
    "#Creating a list of the maximum Math Score states. \n",
    "list_max_Math_STs = []\n",
    "for i in range(len(sat_csv['Math'])):\n",
    "    if sat_csv['Math'][i] == descriptive_stats_sat_Math[1][1]:\n",
    "        list_max_Math_STs.append(sat_csv['State'][i])\n",
    "print \"The count of maximum mean Math Score states is %i, and the list of states is:\" % (len(list_max_Math_STs))\n",
    "print list_max_Math_STs\n",
    "print (\"Overall, it is interesting that the standard deviation around the mean is so tight (around 6 percent). What is less encouraging is that less than two standard deviations down from the mean is the lowest mean Math score, and it is low.\")\n",
    "print (\"While the College Board can not change how low scoring States teach, this data should be a call to action for %s.\" % list_min_Math_STs[0])\n",
    "print (\"A good potential consulting opportunity for the College Board would be to examine if there are controlable factors in %s that can be propagated as best practices to struggling states.\" % list_max_Math_STs[0])\n",
    "print (\"\")\n",
    "print (\"The mean Math and Verbal Score summation is %f, which is low.\" % (total_mean))\n"
   ]
  },
  {
   "cell_type": "markdown",
   "metadata": {
    "collapsed": true
   },
   "source": [
    "**What does the data describe?**\n",
    "\n",
    "The data are a one year (2001) sample of mean SAT Verbal and Math scores and the participation rate in the exam across all 50 U.S. states and the District of Columbia. I say sample because it is just one year's worth of data from a multi-year database."
   ]
  },
  {
   "cell_type": "markdown",
   "metadata": {},
   "source": [
    "What are some issues with this data?\n",
    "\n",
    "1) This is a cross-section from one year, so it really is just a sample. It may not be enough for inferences.\n",
    "\n",
    "2) The data are only the means for scores in each state. We do not know any other summary statistics that would be of use, such as the standard deviation (i.e. are some states' scores more widely dispersed, which could say something about their educational system)?\n",
    "\n",
    "3) The data by state might be too aggregated - analyzing by county within a state or some other variable could answer some questions the College Board wants to know.\n"
   ]
  },
  {
   "cell_type": "markdown",
   "metadata": {},
   "source": [
    "**3. Create a dictionary for the dataset.**\n",
    "\n",
    "The data is structured with the first column as the States. These can be the keys. The values for the value pairs can be the Rate, Verbal and Math scores."
   ]
  },
  {
   "cell_type": "code",
   "execution_count": 90,
   "metadata": {
    "collapsed": false
   },
   "outputs": [
    {
     "name": "stdout",
     "output_type": "stream",
     "text": [
      "The dictionary is organized with the key being State, and the value being a list of Rate, Verbal and Math scores for that state.\n",
      "{'WA': [53, 527, 527], 'DE': [67, 501, 499], 'DC': [56, 482, 474], 'WI': [6, 584, 596], 'WV': [18, 527, 512], 'HI': [52, 485, 515], 'FL': [54, 498, 499], 'WY': [11, 547, 545], 'NH': [72, 520, 516], 'NJ': [81, 499, 513], 'NM': [13, 551, 542], 'TX': [53, 493, 499], 'LA': [7, 564, 562], 'NB': [8, 562, 568], 'NC': [65, 493, 499], 'ND': [4, 592, 599], 'TN': [13, 562, 553], 'NY': [77, 495, 505], 'PA': [71, 500, 499], 'RI': [71, 501, 499], 'NV': [33, 509, 515], 'VA': [68, 510, 501], 'CO': [31, 539, 542], 'AK': [51, 514, 510], 'AL': [9, 559, 554], 'AR': [6, 562, 550], 'VT': [69, 511, 506], 'IL': [12, 576, 589], 'GA': [63, 491, 489], 'IN': [60, 499, 501], 'IA': [5, 593, 603], 'OK': [8, 567, 561], 'AZ': [34, 523, 525], 'CA': [51, 498, 517], 'ID': [17, 543, 542], 'CT': [82, 509, 510], 'ME': [69, 506, 500], 'MD': [65, 508, 510], 'MA': [79, 511, 515], 'OH': [26, 534, 439], 'UT': [5, 575, 570], 'MO': [8, 577, 577], 'MN': [9, 580, 589], 'MI': [11, 561, 572], 'KS': [9, 577, 580], 'MT': [23, 539, 539], 'MS': [4, 566, 551], 'SC': [57, 486, 488], 'KY': [12, 550, 550], 'OR': [55, 526, 526], 'SD': [4, 577, 582]}\n"
     ]
    }
   ],
   "source": [
    "#creating empty dictionary.\n",
    "\n",
    "sat_dict = {}\n",
    "for i in range(len(sat_csv)):\n",
    "    sat_dict[sat_csv[\"State\"][i]] = list((sat_csv[\"Rate\"][i], sat_csv[\"Verbal\"][i], sat_csv[\"Math\"][i]))\n",
    "\n",
    "#dictionary full of the key value pairs.    \n",
    "    \n",
    "print \"The dictionary is organized with the key being State, and the value being a list of Rate, Verbal and Math scores for that state.\" \n",
    "print sat_dict\n"
   ]
  },
  {
   "cell_type": "markdown",
   "metadata": {},
   "source": [
    "## Step 2: Load the data"
   ]
  },
  {
   "cell_type": "markdown",
   "metadata": {},
   "source": [
    "**4. Load the data into a list of lists.**"
   ]
  },
  {
   "cell_type": "code",
   "execution_count": 84,
   "metadata": {
    "collapsed": false
   },
   "outputs": [
    {
     "name": "stdout",
     "output_type": "stream",
     "text": [
      "This is the file as loaded via the CSV library and converted into a list of lists.\n",
      "[['State', 'Rate', 'Verbal', 'Math'], ['CT', '82', '509', '510'], ['NJ', '81', '499', '513'], ['MA', '79', '511', '515'], ['NY', '77', '495', '505'], ['NH', '72', '520', '516'], ['RI', '71', '501', '499'], ['PA', '71', '500', '499'], ['VT', '69', '511', '506'], ['ME', '69', '506', '500'], ['VA', '68', '510', '501'], ['DE', '67', '501', '499'], ['MD', '65', '508', '510'], ['NC', '65', '493', '499'], ['GA', '63', '491', '489'], ['IN', '60', '499', '501'], ['SC', '57', '486', '488'], ['DC', '56', '482', '474'], ['OR', '55', '526', '526'], ['FL', '54', '498', '499'], ['WA', '53', '527', '527'], ['TX', '53', '493', '499'], ['HI', '52', '485', '515'], ['AK', '51', '514', '510'], ['CA', '51', '498', '517'], ['AZ', '34', '523', '525'], ['NV', '33', '509', '515'], ['CO', '31', '539', '542'], ['OH', '26', '534', '439'], ['MT', '23', '539', '539'], ['WV', '18', '527', '512'], ['ID', '17', '543', '542'], ['TN', '13', '562', '553'], ['NM', '13', '551', '542'], ['IL', '12', '576', '589'], ['KY', '12', '550', '550'], ['WY', '11', '547', '545'], ['MI', '11', '561', '572'], ['MN', '9', '580', '589'], ['KS', '9', '577', '580'], ['AL', '9', '559', '554'], ['NB', '8', '562', '568'], ['OK', '8', '567', '561'], ['MO', '8', '577', '577'], ['LA', '7', '564', '562'], ['WI', '6', '584', '596'], ['AR', '6', '562', '550'], ['UT', '5', '575', '570'], ['IA', '5', '593', '603'], ['SD', '4', '577', '582'], ['ND', '4', '592', '599'], ['MS', '4', '566', '551']]\n",
      "This is the file as loaded from np.genfromtxt, and it is an array of tuples.\n",
      "[('CT', 82, 509, 510) ('NJ', 81, 499, 513) ('MA', 79, 511, 515)\n",
      " ('NY', 77, 495, 505) ('NH', 72, 520, 516) ('RI', 71, 501, 499)\n",
      " ('PA', 71, 500, 499) ('VT', 69, 511, 506) ('ME', 69, 506, 500)\n",
      " ('VA', 68, 510, 501) ('DE', 67, 501, 499) ('MD', 65, 508, 510)\n",
      " ('NC', 65, 493, 499) ('GA', 63, 491, 489) ('IN', 60, 499, 501)\n",
      " ('SC', 57, 486, 488) ('DC', 56, 482, 474) ('OR', 55, 526, 526)\n",
      " ('FL', 54, 498, 499) ('WA', 53, 527, 527) ('TX', 53, 493, 499)\n",
      " ('HI', 52, 485, 515) ('AK', 51, 514, 510) ('CA', 51, 498, 517)\n",
      " ('AZ', 34, 523, 525) ('NV', 33, 509, 515) ('CO', 31, 539, 542)\n",
      " ('OH', 26, 534, 439) ('MT', 23, 539, 539) ('WV', 18, 527, 512)\n",
      " ('ID', 17, 543, 542) ('TN', 13, 562, 553) ('NM', 13, 551, 542)\n",
      " ('IL', 12, 576, 589) ('KY', 12, 550, 550) ('WY', 11, 547, 545)\n",
      " ('MI', 11, 561, 572) ('MN', 9, 580, 589) ('KS', 9, 577, 580)\n",
      " ('AL', 9, 559, 554) ('NB', 8, 562, 568) ('OK', 8, 567, 561)\n",
      " ('MO', 8, 577, 577) ('LA', 7, 564, 562) ('WI', 6, 584, 596)\n",
      " ('AR', 6, 562, 550) ('UT', 5, 575, 570) ('IA', 5, 593, 603)\n",
      " ('SD', 4, 577, 582) ('ND', 4, 592, 599) ('MS', 4, 566, 551)]\n",
      "\n",
      "\n"
     ]
    }
   ],
   "source": [
    "#So we have the data loaded from above both via the csv reader and numpy genfromtxt.\n",
    "#If we look at sat_from_reader from the csv, it is a list of lists, but the values are strings.\n",
    "print \"This is the file as loaded via the CSV library and converted into a list of lists.\"\n",
    "print sat_from_reader\n",
    "#If we look at sat_csv, we see that we already have the column headers stripped, but it is an array of tuples.\n",
    "print \"This is the file as loaded from np.genfromtxt, and it is an array of tuples.\"\n",
    "print sat_csv\n",
    "print \"\"\n",
    "print \"\"\n",
    "\n",
    "#Converting the array of tuples into a list of lists.\n",
    "list_sat_csv = []\n",
    "for i in range(len(sat_csv)):\n",
    "    item = list(sat_csv[i])\n",
    "    list_sat_csv.append(item)\n",
    "#We've created a list of lists, converting the tuples from sat_csv.\n"
   ]
  },
  {
   "cell_type": "markdown",
   "metadata": {},
   "source": [
    "**5. Print the data.**"
   ]
  },
  {
   "cell_type": "code",
   "execution_count": 85,
   "metadata": {
    "collapsed": false
   },
   "outputs": [
    {
     "name": "stdout",
     "output_type": "stream",
     "text": [
      "Below is the list of lists, converted from an array of tuples from the file generated via numpy genfromtxt.\n",
      "[['CT', 82, 509, 510], ['NJ', 81, 499, 513], ['MA', 79, 511, 515], ['NY', 77, 495, 505], ['NH', 72, 520, 516], ['RI', 71, 501, 499], ['PA', 71, 500, 499], ['VT', 69, 511, 506], ['ME', 69, 506, 500], ['VA', 68, 510, 501], ['DE', 67, 501, 499], ['MD', 65, 508, 510], ['NC', 65, 493, 499], ['GA', 63, 491, 489], ['IN', 60, 499, 501], ['SC', 57, 486, 488], ['DC', 56, 482, 474], ['OR', 55, 526, 526], ['FL', 54, 498, 499], ['WA', 53, 527, 527], ['TX', 53, 493, 499], ['HI', 52, 485, 515], ['AK', 51, 514, 510], ['CA', 51, 498, 517], ['AZ', 34, 523, 525], ['NV', 33, 509, 515], ['CO', 31, 539, 542], ['OH', 26, 534, 439], ['MT', 23, 539, 539], ['WV', 18, 527, 512], ['ID', 17, 543, 542], ['TN', 13, 562, 553], ['NM', 13, 551, 542], ['IL', 12, 576, 589], ['KY', 12, 550, 550], ['WY', 11, 547, 545], ['MI', 11, 561, 572], ['MN', 9, 580, 589], ['KS', 9, 577, 580], ['AL', 9, 559, 554], ['NB', 8, 562, 568], ['OK', 8, 567, 561], ['MO', 8, 577, 577], ['LA', 7, 564, 562], ['WI', 6, 584, 596], ['AR', 6, 562, 550], ['UT', 5, 575, 570], ['IA', 5, 593, 603], ['SD', 4, 577, 582], ['ND', 4, 592, 599], ['MS', 4, 566, 551]]\n",
      "Unfortunately, with this, the column header information is stripped out, so now, unlike with genfromtxt, we can not subset with the column name.\n"
     ]
    }
   ],
   "source": [
    "print \"Below is the list of lists, converted from an array of tuples from the file generated via numpy genfromtxt.\"\n",
    "print list_sat_csv\n",
    "print \"Unfortunately, with this, the column header information is stripped out, so now, unlike with genfromtxt, we can not subset with the column name.\""
   ]
  },
  {
   "cell_type": "markdown",
   "metadata": {},
   "source": [
    "**6. Extract a list of the labels from the data, and remove them from the data.**"
   ]
  },
  {
   "cell_type": "code",
   "execution_count": 108,
   "metadata": {
    "collapsed": false
   },
   "outputs": [
    {
     "name": "stdout",
     "output_type": "stream",
     "text": [
      "['State', 'Rate', 'Verbal', 'Math']\n",
      "These are the column names from the original data set. Note, they are already removed from the list of lists, and stored in the dtype part of the ndarray sat_csv.\n"
     ]
    }
   ],
   "source": [
    "#I assume this refers to the column headers.\n",
    "\n",
    "column_names = list(sat_csv.dtype.names)\n",
    "print column_names\n",
    "print \"These are the column names from the original data set. Note, they are already removed from the list of lists, and stored in the dtype part of the ndarray sat_csv.\"\n",
    "#Note, these are already removed from data set sat_csv, used for all calculations above, and from the list of lists."
   ]
  },
  {
   "cell_type": "markdown",
   "metadata": {},
   "source": [
    "**7. Create a list of State names extracted from the data. (Hint: use the list of labels to index on the State column)**"
   ]
  },
  {
   "cell_type": "code",
   "execution_count": 111,
   "metadata": {
    "collapsed": false
   },
   "outputs": [
    {
     "name": "stdout",
     "output_type": "stream",
     "text": [
      "['CT', 'NJ', 'MA', 'NY', 'NH', 'RI', 'PA', 'VT', 'ME', 'VA', 'DE', 'MD', 'NC', 'GA', 'IN', 'SC', 'DC', 'OR', 'FL', 'WA', 'TX', 'HI', 'AK', 'CA', 'AZ', 'NV', 'CO', 'OH', 'MT', 'WV', 'ID', 'TN', 'NM', 'IL', 'KY', 'WY', 'MI', 'MN', 'KS', 'AL', 'NB', 'OK', 'MO', 'LA', 'WI', 'AR', 'UT', 'IA', 'SD', 'ND', 'MS']\n"
     ]
    }
   ],
   "source": [
    "##Using sat_csv[\"State\"] to pull out the list.\n",
    "##coercing the array into a list.\n",
    "list_state_names = list(sat_csv[\"State\"])\n",
    "print list_state_names"
   ]
  },
  {
   "cell_type": "markdown",
   "metadata": {},
   "source": [
    "**8. Print the types of each column**"
   ]
  },
  {
   "cell_type": "code",
   "execution_count": 129,
   "metadata": {
    "collapsed": false
   },
   "outputs": [
    {
     "name": "stdout",
     "output_type": "stream",
     "text": [
      "The datatype for State is |S2.\n",
      "The datatype for Rate is int64.\n",
      "The datatype for Verbal is int64.\n",
      "The datatype for Math is int64.\n"
     ]
    }
   ],
   "source": [
    "##Using dtype for the sat_csv dataset.\n",
    "\n",
    "print (\"The datatype for %s is %s.\" % (sat_csv.dtype.names[0], sat_csv.dtype[0]))\n",
    "print (\"The datatype for %s is %s.\" % (sat_csv.dtype.names[1], sat_csv.dtype[1]))\n",
    "print (\"The datatype for %s is %s.\" % (sat_csv.dtype.names[2], sat_csv.dtype[2]))\n",
    "print (\"The datatype for %s is %s.\" % (sat_csv.dtype.names[3], sat_csv.dtype[3]))"
   ]
  },
  {
   "cell_type": "markdown",
   "metadata": {},
   "source": [
    "**9. Do any types need to be reassigned? If so, go ahead and do it.**"
   ]
  },
  {
   "cell_type": "code",
   "execution_count": 130,
   "metadata": {
    "collapsed": false
   },
   "outputs": [
    {
     "name": "stdout",
     "output_type": "stream",
     "text": [
      "No data types need to be modified. :)\n"
     ]
    }
   ],
   "source": [
    "print \"No data types need to be modified.\""
   ]
  },
  {
   "cell_type": "markdown",
   "metadata": {},
   "source": [
    "**10. Create a dictionary for each column mapping the State to its respective value for that column.**"
   ]
  },
  {
   "cell_type": "code",
   "execution_count": 137,
   "metadata": {
    "collapsed": false
   },
   "outputs": [
    {
     "name": "stdout",
     "output_type": "stream",
     "text": [
      "The dictionary is organized with the key being State, and the value being the Participation Rate. Below is the dictionary.\n",
      "{'WA': 53, 'DE': 67, 'DC': 56, 'WI': 6, 'WV': 18, 'HI': 52, 'FL': 54, 'WY': 11, 'NH': 72, 'NJ': 81, 'NM': 13, 'TX': 53, 'LA': 7, 'NB': 8, 'NC': 65, 'ND': 4, 'TN': 13, 'NY': 77, 'PA': 71, 'RI': 71, 'NV': 33, 'VA': 68, 'CO': 31, 'AK': 51, 'AL': 9, 'AR': 6, 'VT': 69, 'IL': 12, 'GA': 63, 'IN': 60, 'IA': 5, 'OK': 8, 'AZ': 34, 'CA': 51, 'ID': 17, 'CT': 82, 'ME': 69, 'MD': 65, 'MA': 79, 'OH': 26, 'UT': 5, 'MO': 8, 'MN': 9, 'MI': 11, 'KS': 9, 'MT': 23, 'MS': 4, 'SC': 57, 'KY': 12, 'OR': 55, 'SD': 4}\n",
      "The dictionary is organized with the key being State, and the value being the mean Verbal Score. Below is the dictionary.\n",
      "{'WA': 527, 'DE': 501, 'DC': 482, 'WI': 584, 'WV': 527, 'HI': 485, 'FL': 498, 'WY': 547, 'NH': 520, 'NJ': 499, 'NM': 551, 'TX': 493, 'LA': 564, 'NB': 562, 'NC': 493, 'ND': 592, 'TN': 562, 'NY': 495, 'PA': 500, 'RI': 501, 'NV': 509, 'VA': 510, 'CO': 539, 'AK': 514, 'AL': 559, 'AR': 562, 'VT': 511, 'IL': 576, 'GA': 491, 'IN': 499, 'IA': 593, 'OK': 567, 'AZ': 523, 'CA': 498, 'ID': 543, 'CT': 509, 'ME': 506, 'MD': 508, 'MA': 511, 'OH': 534, 'UT': 575, 'MO': 577, 'MN': 580, 'MI': 561, 'KS': 577, 'MT': 539, 'MS': 566, 'SC': 486, 'KY': 550, 'OR': 526, 'SD': 577}\n",
      "The dictionary is organized with the key being State, and the value being the mean Math Score. Below is the dictionary.\n",
      "{'WA': 527, 'DE': 499, 'DC': 474, 'WI': 596, 'WV': 512, 'HI': 515, 'FL': 499, 'WY': 545, 'NH': 516, 'NJ': 513, 'NM': 542, 'TX': 499, 'LA': 562, 'NB': 568, 'NC': 499, 'ND': 599, 'TN': 553, 'NY': 505, 'PA': 499, 'RI': 499, 'NV': 515, 'VA': 501, 'CO': 542, 'AK': 510, 'AL': 554, 'AR': 550, 'VT': 506, 'IL': 589, 'GA': 489, 'IN': 501, 'IA': 603, 'OK': 561, 'AZ': 525, 'CA': 517, 'ID': 542, 'CT': 510, 'ME': 500, 'MD': 510, 'MA': 515, 'OH': 439, 'UT': 570, 'MO': 577, 'MN': 589, 'MI': 572, 'KS': 580, 'MT': 539, 'MS': 551, 'SC': 488, 'KY': 550, 'OR': 526, 'SD': 582}\n"
     ]
    }
   ],
   "source": [
    "#creating empty dictionary for the Participation Rate by state data.\n",
    "\n",
    "sat_dict_Rate = {}\n",
    "for i in range(len(sat_csv)):\n",
    "    sat_dict_Rate[sat_csv[\"State\"][i]] = (sat_csv[\"Rate\"][i])\n",
    "\n",
    "#dictionary full of the key value pairs.    \n",
    "    \n",
    "print (\"The dictionary is organized with the key being State, and the value being the Participation Rate. Below is the dictionary.\" )\n",
    "print sat_dict_Rate\n",
    "\n",
    "#creating empty dictionary for the mean Verbal Score by state data.\n",
    "\n",
    "sat_dict_Verbal = {}\n",
    "for i in range(len(sat_csv)):\n",
    "    sat_dict_Verbal[sat_csv[\"State\"][i]] = (sat_csv[\"Verbal\"][i])\n",
    "\n",
    "#dictionary full of the key value pairs.    \n",
    "    \n",
    "print (\"The dictionary is organized with the key being State, and the value being the mean Verbal Score. Below is the dictionary.\" )\n",
    "print sat_dict_Verbal\n",
    "\n",
    "#creating empty dictionary for the mean Math Score by state data.\n",
    "\n",
    "sat_dict_Math = {}\n",
    "for i in range(len(sat_csv)):\n",
    "    sat_dict_Math[sat_csv[\"State\"][i]] = (sat_csv[\"Math\"][i])\n",
    "\n",
    "#dictionary full of the key value pairs.    \n",
    "    \n",
    "print (\"The dictionary is organized with the key being State, and the value being the mean Math Score. Below is the dictionary.\" )\n",
    "print sat_dict_Math"
   ]
  },
  {
   "cell_type": "markdown",
   "metadata": {},
   "source": [
    "## Step 3. Describe the Data\n",
    "\n",
    "**12. Print the min and max of each column**"
   ]
  },
  {
   "cell_type": "code",
   "execution_count": 9,
   "metadata": {
    "collapsed": false
   },
   "outputs": [
    {
     "name": "stdout",
     "output_type": "stream",
     "text": [
      "The minimum participation rate is 4.000000 percent and the maximum is 82.000000 percent.\n",
      "The minimum mean Verbal Score is 482.000000 points and the maximum is 593.000000 points.\n",
      "The minimum mean Math Score is 439.000000 points and the maximum is 603.000000 points.\n"
     ]
    }
   ],
   "source": [
    "#Getting this from the prior calculations.\n",
    "\n",
    "print (\"The minimum participation rate is %f percent and the maximum is %f percent.\" % (descriptive_stats_sat_Rate[1][0], descriptive_stats_sat_Rate[1][1]))\n",
    "print (\"The minimum mean Verbal Score is %f points and the maximum is %f points.\" % (descriptive_stats_sat_Verbal[1][0], descriptive_stats_sat_Verbal[1][1]))\n",
    "print (\"The minimum mean Math Score is %f points and the maximum is %f points.\" % (descriptive_stats_sat_Math[1][0], descriptive_stats_sat_Math[1][1]))\n",
    "\n"
   ]
  },
  {
   "cell_type": "markdown",
   "metadata": {
    "collapsed": true
   },
   "source": [
    "**13. Write a function using only list comprehensions, no loops, to compute Standard Deviation. Print the Standard Deviation of each numeric column.**"
   ]
  },
  {
   "cell_type": "code",
   "execution_count": 24,
   "metadata": {
    "collapsed": false
   },
   "outputs": [
    {
     "name": "stdout",
     "output_type": "stream",
     "text": [
      "The variance of the Participation Rate is 759.040000 percent squared\n",
      "The Standard Deviation of the Participation Rate is 27.550681 percent.\n",
      "\n",
      "\n",
      "The variance of the mean Verbal Score is 1112.934118 points squared\n",
      "The Standard Deviation of the mean Verbal Score is 33.360667 points.\n",
      "\n",
      "\n",
      "The variance of the mean Math Score is 1316.774902 points squared\n",
      "The Standard Deviation of the mean Math Score is 36.287393 points.\n",
      "\n",
      "\n",
      "From the list comprehension function, the standard deviation of the Participation Rate is 27.550681 percent.\n",
      "From the list comprehension function, the standard deviation of the mean Verbal Score is 33.360667 points.\n",
      "From the list comprehension function, the standard deviation of the mean Math Score is 36.287393 percent.\n"
     ]
    }
   ],
   "source": [
    "# Note, I used scipy.stats.describe to calculate the sample variance. The square root of the sample variance is the sample standard deviation.\n",
    "# Hence, I will refer to the calculations above.\n",
    "\n",
    "#Standard deviation of Participation Rate.\n",
    "#1) Get the variance from the describe function in scipy.stats.\n",
    "Rate_variance = stats.describe(sat_csv[\"Rate\"])[3]\n",
    "print (\"The variance of the Participation Rate is %f percent squared\" % Rate_variance)\n",
    "#2) Square root of variance for the standard deviation.\n",
    "Rate_standard_deviation = np.sqrt(Rate_variance)\n",
    "print (\"The Standard Deviation of the Participation Rate is %f percent.\" % Rate_standard_deviation)\n",
    "print \"\"\n",
    "print \"\"\n",
    "\n",
    "#Standard deviation of Verbal Score.\n",
    "#1) Get the variance from the describe function in scipy.stats.\n",
    "Verbal_variance = stats.describe(sat_csv[\"Verbal\"])[3]\n",
    "print (\"The variance of the mean Verbal Score is %f points squared\" % Verbal_variance)\n",
    "#2) Square root of variance for the standard deviation.\n",
    "Verbal_standard_deviation = np.sqrt(Verbal_variance)\n",
    "print (\"The Standard Deviation of the mean Verbal Score is %f points.\" % Verbal_standard_deviation)\n",
    "print \"\"\n",
    "print \"\"\n",
    "\n",
    "#Standard deviation of Math Score.\n",
    "#1) Get the variance from the describe function in scipy.stats.\n",
    "Math_variance = stats.describe(sat_csv[\"Math\"])[3]\n",
    "print (\"The variance of the mean Math Score is %f points squared\" % Math_variance)\n",
    "#2) Square root of variance for the standard deviation.\n",
    "Math_standard_deviation = np.sqrt(Math_variance)\n",
    "print (\"The Standard Deviation of the mean Math Score is %f points.\" % Math_standard_deviation)\n",
    "print \"\"\n",
    "print \"\"\n",
    "\n",
    "##Calculating using list comprehensions, which apparently include loops in them.\n",
    "def stdev(x):\n",
    "    deviations = []\n",
    "    deviation = [(x[i] - np.mean(x))**2 for i in range(len(x))]\n",
    "    variance = sum(deviation)/(len(x)-1)\n",
    "    standard_deviation = np.sqrt(variance)\n",
    "    return standard_deviation\n",
    "\n",
    "print (\"From the list comprehension function, the standard deviation of the Participation Rate is %f percent.\" % stdev(sat_csv[\"Rate\"]))\n",
    "print (\"From the list comprehension function, the standard deviation of the mean Verbal Score is %f points.\" % stdev(sat_csv[\"Verbal\"]))\n",
    "print (\"From the list comprehension function, the standard deviation of the mean Math Score is %f percent.\" % stdev(sat_csv[\"Math\"]))"
   ]
  },
  {
   "cell_type": "markdown",
   "metadata": {},
   "source": [
    "# Step 4: Visualize the data\n",
    "\n",
    "**14. Using MatPlotLib and PyPlot, plot the distribution of the Rate using histograms."
   ]
  },
  {
   "cell_type": "code",
   "execution_count": 46,
   "metadata": {
    "collapsed": false
   },
   "outputs": [
    {
     "data": {
      "text/plain": [
       "<matplotlib.axes._subplots.AxesSubplot at 0x11c8c5f10>"
      ]
     },
     "execution_count": 46,
     "metadata": {},
     "output_type": "execute_result"
    },
    {
     "data": {
      "image/png": "[encoded data removed]",
      "text/plain": [
       "<matplotlib.figure.Figure at 0x11b6be3d0>"
      ]
     },
     "metadata": {},
     "output_type": "display_data"
    }
   ],
   "source": [
    "#Note: I am going to attempt this in seaborn first.\n",
    "\n",
    "#I want to visualize the data - plot the distributions of each column\n",
    "#Looking at a box plot\n",
    "sns.set(color_codes = True)\n",
    "Rate = pd.Series(sat_csv['Rate'], name = \"Participation Rate\")\n",
    "sns.distplot(Rate)\n",
    "#Will have to add title..."
   ]
  },
  {
   "cell_type": "markdown",
   "metadata": {},
   "source": [
    "**15. Plot the Math distribution**"
   ]
  },
  {
   "cell_type": "code",
   "execution_count": 48,
   "metadata": {
    "collapsed": false
   },
   "outputs": [
    {
     "data": {
      "text/plain": [
       "<matplotlib.axes._subplots.AxesSubplot at 0x117f61350>"
      ]
     },
     "execution_count": 48,
     "metadata": {},
     "output_type": "execute_result"
    },
    {
     "data": {
      "image/png": "[encoded data removed]",
      "text/plain": [
       "<matplotlib.figure.Figure at 0x11cd2c790>"
      ]
     },
     "metadata": {},
     "output_type": "display_data"
    }
   ],
   "source": [
    "Math = pd.Series(sat_csv['Math'], name = \"Mean Math Score Distribution\")\n",
    "sns.distplot(Math)\n"
   ]
  },
  {
   "cell_type": "markdown",
   "metadata": {},
   "source": [
    "**16. Plot the Verbal distribution**"
   ]
  },
  {
   "cell_type": "code",
   "execution_count": 47,
   "metadata": {
    "collapsed": false
   },
   "outputs": [
    {
     "data": {
      "text/plain": [
       "<matplotlib.axes._subplots.AxesSubplot at 0x11cba26d0>"
      ]
     },
     "execution_count": 47,
     "metadata": {},
     "output_type": "execute_result"
    },
    {
     "data": {
      "image/png": "[encoded data removed]",
      "text/plain": [
       "<matplotlib.figure.Figure at 0x11b687110>"
      ]
     },
     "metadata": {},
     "output_type": "display_data"
    }
   ],
   "source": [
    "Verbal = pd.Series(sat_csv['Verbal'], name = \"Mean Verbal Score Distribution\")\n",
    "sns.distplot(Verbal)\n"
   ]
  },
  {
   "cell_type": "markdown",
   "metadata": {},
   "source": [
    "\n",
    "**17. What is the typical assumption for data distribution?**\n",
    "\n",
    "We typically assume that a data distribution is normal."
   ]
  },
  {
   "cell_type": "markdown",
   "metadata": {},
   "source": [
    "**18. Does that distribution hold true for our data?**\n",
    "\n",
    "No. The participation rate data definitely is bimodal, as is the Verbal Score distribution.\n",
    "\n",
    "**19. Plot some scatterplots. BONUS: Use a PyPlot figure to present multiple plots at once.**"
   ]
  },
  {
   "cell_type": "code",
   "execution_count": 158,
   "metadata": {
    "collapsed": false
   },
   "outputs": [
    {
     "data": {
      "text/plain": [
       "<matplotlib.text.Text at 0x135245ed0>"
      ]
     },
     "execution_count": 158,
     "metadata": {},
     "output_type": "execute_result"
    },
    {
     "data": {
      "image/png": "[encoded data removed]",
      "text/plain": [
       "<matplotlib.figure.Figure at 0x1374f3b10>"
      ]
     },
     "metadata": {},
     "output_type": "display_data"
    },
    {
     "data": {
      "image/png": "[encoded data removed]",
      "text/plain": [
       "<matplotlib.figure.Figure at 0x135465c90>"
      ]
     },
     "metadata": {},
     "output_type": "display_data"
    },
    {
     "data": {
      "image/png": "[encoded data removed]",
      "text/plain": [
       "<matplotlib.figure.Figure at 0x1358c7390>"
      ]
     },
     "metadata": {},
     "output_type": "display_data"
    },
    {
     "data": {
      "image/png": "[encoded data removed]",
      "text/plain": [
       "<matplotlib.figure.Figure at 0x1358b3210>"
      ]
     },
     "metadata": {},
     "output_type": "display_data"
    }
   ],
   "source": [
    "#Scatterplots to consider:\n",
    "# 1) Participation Rate in the X axis, with Math and Verbal in the Y axes (two charts)\n",
    "# 2) Is there a correlation between Math and Verbal? Maybe we'll see that by plotting one in the X and the other in the Y.\n",
    "# 3) Is it worth it to artificially create groups of states by region, and see if there is a relationship?\n",
    "#Try in matplotlib first?\n",
    "\n",
    "#Plotting the Participation Rate to Math and VerbalScores.\n",
    "#Having those two plots be in Figure 1.\n",
    "plt.figure(1)\n",
    "plt.subplot(211) #Tells plt that we have a 2 rows, 1 col for the subplot and we're using first figure (fignum.)\n",
    "#Scatter plot of Rate as X and Math Scores as Y for subplot 1\n",
    "plt.scatter(sat_csv['Rate'], sat_csv['Math'])\n",
    "#Setting title for Figure 1.\n",
    "plt.title('Mean Scores across States varying by Participation Rate in the SAT')\n",
    "\n",
    "#Setting Y label for subplot 1.\n",
    "plt.ylabel('Mean Math Score')\n",
    "#second subplot for Figure 1.\n",
    "plt.subplot(212) #Tells plt that we have 2 rows, 1 col for subplot, and we're using the second figure. With 2 rows and 1 col, there can only be two subplots (2 rows * 1 col = 2 spots)\n",
    "plt.scatter(sat_csv['Rate'], sat_csv['Verbal'])\n",
    "\n",
    "#Setting x label for subplot 2.\n",
    "plt.xlabel('Participation Rate across States in SAT')\n",
    "#Setting Y label\n",
    "plt.ylabel('Mean Verbal Score')\n",
    "\n",
    "\n",
    "#Plotting the relationship between Math and Verbal Scores with a Scatter plot.\n",
    "plt.figure(2)\n",
    "plt.scatter(sat_csv['Math'], sat_csv['Verbal'])\n",
    "plt.title('Plot of Relationship Between Math and Verbal Scores')\n",
    "plt.xlabel('Math Scores')\n",
    "plt.ylabel('Verbal Scores')\n",
    "\n",
    "#Plotting a linear regression with confidence intervals for Participation Rate to Math Scores, using regplot in Seaborn because it accepts numpy arrays.\n",
    "plt.figure(3)\n",
    "sns.regplot(x = sat_csv[\"Rate\"], y = sat_csv[\"Math\"], data =sat_csv)\n",
    "plt.title('Mean Scores across States Varying by Participation Rate in the SAT')\n",
    "plt.xlabel('Participation Rate across States in SAT')\n",
    "plt.ylabel('Mean Math Score')\n",
    "\n",
    "#Plotting a linear regression with confidence intervals for Participation Rate to Verbal Scores, using regplot in Seaborn because it accepts numpy arrays.\n",
    "\n",
    "plt.figure(4)\n",
    "sns.regplot(x = sat_csv[\"Rate\"], y = sat_csv[\"Verbal\"], data =sat_csv)\n",
    "plt.title('Mean Scores across States Varying by Participation Rate in the SAT')\n",
    "plt.xlabel('Participation Rate across States in SAT')\n",
    "plt.ylabel('Mean Verbal Score')\n"
   ]
  },
  {
   "cell_type": "markdown",
   "metadata": {},
   "source": [
    "**20. Are there any interesting relationships to note?**\n",
    "\n",
    "There are three insights, two of which are counter-intuitive.\n",
    "\n",
    "The first two are that as the Participation Rate increases, the mean SAT score, whether Verbal or Math, decreases. Possible explanations include low Participation Rate states being ones where the SAT is \"marketed\" to higher GPA, more college-ready students (or taking a college admissions test is optional, and hence there is self-selection here towards higher performing students); low Participation Rate states being where better prepared students choose the SAT over another test; and high Participation Rate states being ones where high schools require SAT participation and hence there is a wider pool of test takers, including those who are not as prepared.\n",
    "\n",
    "The first and second hypotheses could be tested if we knew ACT scores and participation rates for those states. The third hypothesis would require examining testing policies for high partipication rate states (and seeing if they have students also take the ACT), and comparing GPA scores and distribution of them in the high Participation Rate states to low Participation Rate states.\n",
    "\n",
    "No doubt there are other hypotheses worth testing, because needless to say, this sort of relationship should be concerning unless the College Board can use it to market to higher Participation Rate states data that helps students improve their learning outcomes and hence SAT scores.\n",
    "\n",
    "The third insight makes sense: where students are scoring high on the Math portion of the SAT, on average, they are also scoring high on the Verbal portion."
   ]
  },
  {
   "cell_type": "markdown",
   "metadata": {},
   "source": [
    "**21. Create box plots for each variable.**"
   ]
  },
  {
   "cell_type": "code",
   "execution_count": 73,
   "metadata": {
    "collapsed": false
   },
   "outputs": [
    {
     "data": {
      "text/plain": [
       "<matplotlib.axes._subplots.AxesSubplot at 0x11d5416d0>"
      ]
     },
     "execution_count": 73,
     "metadata": {},
     "output_type": "execute_result"
    },
    {
     "data": {
      "image/png": "[encoded data removed]",
      "text/plain": [
       "<matplotlib.figure.Figure at 0x11d54cfd0>"
      ]
     },
     "metadata": {},
     "output_type": "display_data"
    }
   ],
   "source": [
    "#Using seaborn for the boxplots.\n",
    "#Boxplot of Participation Rate.\n",
    "sns.set(color_codes = True)\n",
    "sns.boxplot(Rate)"
   ]
  },
  {
   "cell_type": "code",
   "execution_count": 74,
   "metadata": {
    "collapsed": false
   },
   "outputs": [
    {
     "data": {
      "text/plain": [
       "<matplotlib.axes._subplots.AxesSubplot at 0x11d721950>"
      ]
     },
     "execution_count": 74,
     "metadata": {},
     "output_type": "execute_result"
    },
    {
     "data": {
      "image/png": "[encoded data removed]",
      "text/plain": [
       "<matplotlib.figure.Figure at 0x11d7a4590>"
      ]
     },
     "metadata": {},
     "output_type": "display_data"
    }
   ],
   "source": [
    "#Using seaborn for the boxplots.\n",
    "#Boxplot of Verbal Scores.\n",
    "sns.set(color_codes = True)\n",
    "sns.boxplot(Verbal)"
   ]
  },
  {
   "cell_type": "code",
   "execution_count": 75,
   "metadata": {
    "collapsed": false
   },
   "outputs": [
    {
     "data": {
      "text/plain": [
       "<matplotlib.axes._subplots.AxesSubplot at 0x11d5bd610>"
      ]
     },
     "execution_count": 75,
     "metadata": {},
     "output_type": "execute_result"
    },
    {
     "data": {
      "image/png": "[encoded data removed]",
      "text/plain": [
       "<matplotlib.figure.Figure at 0x11d907e50>"
      ]
     },
     "metadata": {},
     "output_type": "display_data"
    }
   ],
   "source": [
    "#Using seaborn for the boxplots.\n",
    "#Boxplot of Math Scores.\n",
    "sns.set(color_codes = True)\n",
    "sns.boxplot(Math)"
   ]
  },
  {
   "cell_type": "code",
   "execution_count": 174,
   "metadata": {
    "collapsed": false
   },
   "outputs": [
    {
     "name": "stdout",
     "output_type": "stream",
     "text": [
      "('NE', 8, 562, 568)\n"
     ]
    }
   ],
   "source": [
    "##Attempting to switch NE in for NB\n",
    "sat_csv[\"State\"][40] = 'NE'\n",
    "#Validating the switch.\n",
    "print sat_csv[40]\n",
    "#Saving cleaned file\n",
    "np.savetxt(\"sat_csv_clean.csv\", sat_csv, fmt = '%.2s, %.2i, %.3i, %.3i', header = 'State, Rate, Verbal, Math', delimiter = ',')\n",
    "#Note, this loses the column names when saving the file."
   ]
  },
  {
   "cell_type": "code",
   "execution_count": 182,
   "metadata": {
    "collapsed": false
   },
   "outputs": [
    {
     "name": "stdout",
     "output_type": "stream",
     "text": [
      "['NE', '8', '562', '568']\n",
      "['State', 'Rate', 'Verbal', 'Math']\n",
      "['CT', '82', '509', '510']\n",
      "['NJ', '81', '499', '513']\n",
      "['MA', '79', '511', '515']\n",
      "['NY', '77', '495', '505']\n",
      "['NH', '72', '520', '516']\n",
      "['RI', '71', '501', '499']\n",
      "['PA', '71', '500', '499']\n",
      "['VT', '69', '511', '506']\n",
      "['ME', '69', '506', '500']\n",
      "['VA', '68', '510', '501']\n",
      "['DE', '67', '501', '499']\n",
      "['MD', '65', '508', '510']\n",
      "['NC', '65', '493', '499']\n",
      "['GA', '63', '491', '489']\n",
      "['IN', '60', '499', '501']\n",
      "['SC', '57', '486', '488']\n",
      "['DC', '56', '482', '474']\n",
      "['OR', '55', '526', '526']\n",
      "['FL', '54', '498', '499']\n",
      "['WA', '53', '527', '527']\n",
      "['TX', '53', '493', '499']\n",
      "['HI', '52', '485', '515']\n",
      "['AK', '51', '514', '510']\n",
      "['CA', '51', '498', '517']\n",
      "['AZ', '34', '523', '525']\n",
      "['NV', '33', '509', '515']\n",
      "['CO', '31', '539', '542']\n",
      "['OH', '26', '534', '439']\n",
      "['MT', '23', '539', '539']\n",
      "['WV', '18', '527', '512']\n",
      "['ID', '17', '543', '542']\n",
      "['TN', '13', '562', '553']\n",
      "['NM', '13', '551', '542']\n",
      "['IL', '12', '576', '589']\n",
      "['KY', '12', '550', '550']\n",
      "['WY', '11', '547', '545']\n",
      "['MI', '11', '561', '572']\n",
      "['MN', '9', '580', '589']\n",
      "['KS', '9', '577', '580']\n",
      "['AL', '9', '559', '554']\n",
      "['NE', '8', '562', '568']\n",
      "['OK', '8', '567', '561']\n",
      "['MO', '8', '577', '577']\n",
      "['LA', '7', '564', '562']\n",
      "['WI', '6', '584', '596']\n",
      "['AR', '6', '562', '550']\n",
      "['UT', '5', '575', '570']\n",
      "['IA', '5', '593', '603']\n",
      "['SD', '4', '577', '582']\n",
      "['ND', '4', '592', '599']\n",
      "['MS', '4', '566', '551']\n"
     ]
    }
   ],
   "source": [
    "#Correcting index 41 in CSV to have NE instead of NB for Nebraska\n",
    "sat_from_reader[41] = ['NE', '8', '562', '568']\n",
    "#Verifying\n",
    "print sat_from_reader[41]\n",
    "\n",
    "#Writing to CSV file so that Tableau can read the Nebraska file for a heat map\n",
    "with open (\"sat_csv_test.csv\", \"w\") as file:\n",
    "    writer = csv.writer(file, delimiter = ',')\n",
    "    writer.writerows(sat_from_reader)\n",
    "\n",
    "#Validating in Python that the write was successful by reading the file.    \n",
    "with open(\"sat_csv_test.csv\", \"U\") as file:\n",
    "    reader = csv.reader(file)\n",
    "    for row in reader:\n",
    "        print row"
   ]
  },
  {
   "cell_type": "code",
   "execution_count": null,
   "metadata": {
    "collapsed": true
   },
   "outputs": [],
   "source": []
  }
 ],
 "metadata": {
  "kernelspec": {
   "display_name": "Python 2",
   "language": "python",
   "name": "python2"
  },
  "language_info": {
   "codemirror_mode": {
    "name": "ipython",
    "version": 2
   },
   "file_extension": ".py",
   "mimetype": "text/x-python",
   "name": "python",
   "nbconvert_exporter": "python",
   "pygments_lexer": "ipython2",
   "version": "2.7.11"
  }
 },
 "nbformat": 4,
 "nbformat_minor": 0
}
